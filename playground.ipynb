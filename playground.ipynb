{
 "cells": [
  {
   "cell_type": "code",
   "execution_count": null,
   "metadata": {},
   "outputs": [],
   "source": [
    "from dotenv import load_dotenv\n",
    "load_dotenv()"
   ]
  },
  {
   "cell_type": "code",
   "execution_count": null,
   "metadata": {},
   "outputs": [],
   "source": [
    "import requests\n",
    "import os\n"
   ]
  },
  {
   "cell_type": "code",
   "execution_count": null,
   "metadata": {},
   "outputs": [],
   "source": [
    "url = \"https://customsearch.googleapis.com/customsearch/v1\"\n",
    "args = {\"key\": os.environ.get(\"GOOGLE_API_KEY\"), \"cx\": \"e79101a8921564bb3\", \"q\": \"mx5\"}\n",
    "response = requests.get(url, params=args)\n",
    "\n",
    "res = \"\"\n",
    "if response.status_code == 200:\n",
    "    # Assuming the response is JSON-formatted\n",
    "    data = response.json()\n",
    "    for item in data.get('items'):\n",
    "        res += item.get('title') + \"\\n\"\n",
    "        res += item.get('snippet') + \"\\n\\n\"\n",
    "else:\n",
    "    print(f\"Failed to retrieve data: {response.status_code}\")"
   ]
  },
  {
   "cell_type": "code",
   "execution_count": null,
   "metadata": {},
   "outputs": [],
   "source": [
    "response.url"
   ]
  },
  {
   "cell_type": "code",
   "execution_count": null,
   "metadata": {},
   "outputs": [],
   "source": [
    "print(res)"
   ]
  },
  {
   "cell_type": "code",
   "execution_count": null,
   "metadata": {},
   "outputs": [],
   "source": [
    "from langchain import hub\n",
    "from langchain.agents import AgentExecutor, create_react_agent\n",
    "from langchain_community.tools.tavily_search import TavilySearchResults\n",
    "from langchain_openai import OpenAI,ChatOpenAI"
   ]
  },
  {
   "cell_type": "code",
   "execution_count": null,
   "metadata": {},
   "outputs": [],
   "source": [
    "from Model import all_tools"
   ]
  },
  {
   "cell_type": "code",
   "execution_count": null,
   "metadata": {},
   "outputs": [],
   "source": [
    "tools = all_tools()"
   ]
  },
  {
   "cell_type": "code",
   "execution_count": null,
   "metadata": {},
   "outputs": [],
   "source": [
    "llm = ChatOpenAI()"
   ]
  },
  {
   "cell_type": "code",
   "execution_count": null,
   "metadata": {},
   "outputs": [],
   "source": [
    "from langchain.memory import ConversationBufferMemory\n",
    "\n",
    "memory = ConversationBufferMemory()\n",
    "memory.chat_memory.add_user_message(\"hi!\")\n",
    "memory.chat_memory.add_ai_message(\"what's up?\")"
   ]
  },
  {
   "cell_type": "code",
   "execution_count": null,
   "metadata": {},
   "outputs": [],
   "source": [
    "# from langchain_core.prompts import ChatPromptTemplate\n",
    "\n",
    "# chat_template = ChatPromptTemplate.from_messages(\n",
    "#     [\n",
    "#         (\"system\", \"You are a useful chatbot that helps answer question about cars!\"),\n",
    "#         (\"human\", \"Hello, how are you doing?\"),\n",
    "#         (\"ai\", \"I'm doing well, thanks!\"),\n",
    "#         (\"human\", \"{user_input}\"),\n",
    "#     ]\n",
    "# )\n",
    "\n",
    "# messages = chat_template.format_messages( user_input=\"What is your name?\")"
   ]
  },
  {
   "cell_type": "code",
   "execution_count": null,
   "metadata": {},
   "outputs": [],
   "source": [
    "# from langchain_core.prompts import PromptTemplate\n",
    "\n",
    "# prompt = PromptTemplate.from_template(\n",
    "#     \"\"\"You are a useful chatbot that helps answer question about cars!\n",
    "    \n",
    "#     You can use tools provided to search for information about cars.\n",
    "#     {tool_names}\n",
    "#     {tools}\n",
    "    \n",
    "#     You need to answer the following question:\n",
    "#     {question}\n",
    "#     \"\"\"\n",
    "# )"
   ]
  },
  {
   "cell_type": "code",
   "execution_count": null,
   "metadata": {},
   "outputs": [],
   "source": [
    "agent = create_react_agent(llm, tools=tools, prompt=prompt)"
   ]
  },
  {
   "cell_type": "code",
   "execution_count": null,
   "metadata": {},
   "outputs": [],
   "source": [
    "from langchain import hub\n",
    "prompt = hub.pull(\"hwchase17/react-chat\")"
   ]
  },
  {
   "cell_type": "code",
   "execution_count": null,
   "metadata": {},
   "outputs": [],
   "source": [
    "prompt.template"
   ]
  },
  {
   "cell_type": "code",
   "execution_count": null,
   "metadata": {},
   "outputs": [],
   "source": [
    "agent_executor = AgentExecutor(agent=agent, tools=tools, verbose=True)\n",
    "\n"
   ]
  },
  {
   "cell_type": "code",
   "execution_count": null,
   "metadata": {},
   "outputs": [],
   "source": [
    "res = agent_executor({\"input\":\"how much is gr86?\",\n",
    "                \"chat_history\": memory.load_memory_variables({})})"
   ]
  },
  {
   "cell_type": "code",
   "execution_count": null,
   "metadata": {},
   "outputs": [],
   "source": [
    "res['output']"
   ]
  },
  {
   "cell_type": "code",
   "execution_count": 1,
   "metadata": {},
   "outputs": [],
   "source": [
    "import os"
   ]
  },
  {
   "cell_type": "code",
   "execution_count": 2,
   "metadata": {},
   "outputs": [
    {
     "name": "stderr",
     "output_type": "stream",
     "text": [
      "/Users/weihuapan/Desktop/IE7374 Flask web/.venv/lib/python3.9/site-packages/urllib3/__init__.py:35: NotOpenSSLWarning: urllib3 v2 only supports OpenSSL 1.1.1+, currently the 'ssl' module is compiled with 'LibreSSL 2.8.3'. See: https://github.com/urllib3/urllib3/issues/3020\n",
      "  warnings.warn(\n"
     ]
    }
   ],
   "source": [
    "from Model import Model\n",
    "\n",
    "model = Model(os.environ.get('OPENAI_API_KEY'))"
   ]
  },
  {
   "cell_type": "code",
   "execution_count": 3,
   "metadata": {},
   "outputs": [],
   "source": [
    "model.api_key = os.environ.get('OPENAI_API_KEY')"
   ]
  },
  {
   "cell_type": "code",
   "execution_count": 3,
   "metadata": {},
   "outputs": [
    {
     "name": "stderr",
     "output_type": "stream",
     "text": [
      "/Users/weihuapan/Desktop/IE7374 Flask web/.venv/lib/python3.9/site-packages/langchain_core/_api/deprecation.py:119: LangChainDeprecationWarning: The method `Chain.__call__` was deprecated in langchain 0.1.0 and will be removed in 0.2.0. Use invoke instead.\n",
      "  warn_deprecated(\n"
     ]
    },
    {
     "name": "stdout",
     "output_type": "stream",
     "text": [
      "\n",
      "\n",
      "\u001b[1m> Entering new AgentExecutor chain...\u001b[0m\n",
      "\u001b[32;1m\u001b[1;3mThought: Do I need to use a tool? Yes\n",
      "Action: google_search\n",
      "Action Input: Porsche 911 Turbo S horsepower\u001b[0m\u001b[33;1m\u001b[1;3mpage_content=\"2024 Porsche 911 Turbo Review, Pricing, and Specs\\nHanging out in the rear of both the Turbo and Turbo S is a twin-turbocharged 3.7-liter flat-six engine that makes up to 640 horsepower in the more powerful of\\xa0...\\n\\n2019 Porsche 911 Turbo / Turbo S Review, Pricing, and Specs\\nThe Turbo model makes 540 horsepower and 523 lb-ft of torque while the Turbo S has another 40 ponies and 553 lb-ft. That power exclusively funnels to all four\\xa0...\\n\\n2021 Porsche 911 Turbo Review, Pricing, and Specs\\nWith up to 640 horsepower, the 2021 Porsche 911 Turbo and Turbo S are the company's latest salvo in the horsepower wars. High-output sports cars such as the\\xa0...\\n\\n2020 Porsche 911 Turbo S Boasts a Huge Bump in Power and Torque\\nNov 6, 2019 ... We recently rode in both the coupe and cabriolet versions of the 992 Turbo S. The 992 Turbo is is powered by a 641-hp twin-turbo 3.8-liter\\xa0...\\n\\n640-HP Porsche 911 Turbo S Ties for the Second-Quickest Car We ...\\nOct 16, 2020 ... 640-HP 2021 Porsche 911 Turbo S Ties for the Second-Quickest Car We've Ever Tested · The 2021 Porsche 911 Turbo S achieved a 2.2-second zero-to-\\xa0...\\n\\n2025 Porsche 911: What We Know So Far\\nThe base Carrera's essentially unchanged twin-turbo 3.0-liter in will dial up an additional 11 horsepower and 16 pound-feet of torque for totals of 390\\xa0...\\n\\n2023 Porsche 911 Turbo Review, Pricing, and Specs\\nIts all-wheel-drive launches are courtesy a standard 572-hp 3.7-liter flat-six or a 640-hp version for Turbo S models. It's among the quickest cars we've ever\\xa0...\\n\\n2021 Porsche 911 Turbo S Has a Lot to Love, Including 640 HP\\nMar 3, 2020 ... We'll get straight to the point. The 992-generation 911 Turbo S will produce 640 horsepower and 590 b-ft of torque, and Porsche claims it'll\\xa0...\\n\\nTested: 2021 Porsche 911 Turbo S Reminds Us What Fast Feels Like\\nDec 15, 2020 ... Launch control and 640 horsepower and 590 pound-feet of torque— improvements of 60 horses and 37 pound-feet over the outgoing model—turn up the\\xa0...\\n\\n2014 Porsche 911 Turbo S Tested: 2.6 to 60\\nApr 22, 2014 ... Launch control isn't new, but in the Turbo S it makes the most of the car's 560 horsepower. It gets this 3588-pound machine to 60 mph in 2.6\\xa0...\\n\\n\" metadata={'source': 'google_search'}\u001b[0m\u001b[32;1m\u001b[1;3mDo I need to use a tool? No\n",
      "Final Answer: The Porsche 911 Turbo S has a horsepower of up to 640.\u001b[0m\n",
      "\n",
      "\u001b[1m> Finished chain.\u001b[0m\n"
     ]
    },
    {
     "data": {
      "text/plain": [
       "{'input': 'tell me the hp of 911 turbo s',\n",
       " 'chat_history': {'history': 'AI: Hello! I am a helpful chatbot that answer questions about cars!'},\n",
       " 'output': 'The Porsche 911 Turbo S has a horsepower of up to 640.',\n",
       " 'intermediate_steps': [(AgentAction(tool='google_search', tool_input='Porsche 911 Turbo S horsepower', log='Thought: Do I need to use a tool? Yes\\nAction: google_search\\nAction Input: Porsche 911 Turbo S horsepower'),\n",
       "   Document(page_content=\"2024 Porsche 911 Turbo Review, Pricing, and Specs\\nHanging out in the rear of both the Turbo and Turbo S is a twin-turbocharged 3.7-liter flat-six engine that makes up to 640 horsepower in the more powerful of\\xa0...\\n\\n2019 Porsche 911 Turbo / Turbo S Review, Pricing, and Specs\\nThe Turbo model makes 540 horsepower and 523 lb-ft of torque while the Turbo S has another 40 ponies and 553 lb-ft. That power exclusively funnels to all four\\xa0...\\n\\n2021 Porsche 911 Turbo Review, Pricing, and Specs\\nWith up to 640 horsepower, the 2021 Porsche 911 Turbo and Turbo S are the company's latest salvo in the horsepower wars. High-output sports cars such as the\\xa0...\\n\\n2020 Porsche 911 Turbo S Boasts a Huge Bump in Power and Torque\\nNov 6, 2019 ... We recently rode in both the coupe and cabriolet versions of the 992 Turbo S. The 992 Turbo is is powered by a 641-hp twin-turbo 3.8-liter\\xa0...\\n\\n640-HP Porsche 911 Turbo S Ties for the Second-Quickest Car We ...\\nOct 16, 2020 ... 640-HP 2021 Porsche 911 Turbo S Ties for the Second-Quickest Car We've Ever Tested · The 2021 Porsche 911 Turbo S achieved a 2.2-second zero-to-\\xa0...\\n\\n2025 Porsche 911: What We Know So Far\\nThe base Carrera's essentially unchanged twin-turbo 3.0-liter in will dial up an additional 11 horsepower and 16 pound-feet of torque for totals of 390\\xa0...\\n\\n2023 Porsche 911 Turbo Review, Pricing, and Specs\\nIts all-wheel-drive launches are courtesy a standard 572-hp 3.7-liter flat-six or a 640-hp version for Turbo S models. It's among the quickest cars we've ever\\xa0...\\n\\n2021 Porsche 911 Turbo S Has a Lot to Love, Including 640 HP\\nMar 3, 2020 ... We'll get straight to the point. The 992-generation 911 Turbo S will produce 640 horsepower and 590 b-ft of torque, and Porsche claims it'll\\xa0...\\n\\nTested: 2021 Porsche 911 Turbo S Reminds Us What Fast Feels Like\\nDec 15, 2020 ... Launch control and 640 horsepower and 590 pound-feet of torque— improvements of 60 horses and 37 pound-feet over the outgoing model—turn up the\\xa0...\\n\\n2014 Porsche 911 Turbo S Tested: 2.6 to 60\\nApr 22, 2014 ... Launch control isn't new, but in the Turbo S it makes the most of the car's 560 horsepower. It gets this 3588-pound machine to 60 mph in 2.6\\xa0...\\n\\n\", metadata={'source': 'google_search'}))]}"
      ]
     },
     "execution_count": 3,
     "metadata": {},
     "output_type": "execute_result"
    }
   ],
   "source": [
    "model.invoke(\"tell me the hp of 911 turbo s\")"
   ]
  },
  {
   "cell_type": "code",
   "execution_count": 4,
   "metadata": {},
   "outputs": [
    {
     "data": {
      "text/plain": [
       "['AI: Hello! I am a helpful chatbot that answer questions about cars!',\n",
       " 'Human: tell me the hp of 911 turbo s',\n",
       " 'AI: The Porsche 911 Turbo S has a horsepower of up to 640.']"
      ]
     },
     "execution_count": 4,
     "metadata": {},
     "output_type": "execute_result"
    }
   ],
   "source": [
    "model.get_memory()['history'].split('\\n')"
   ]
  },
  {
   "cell_type": "code",
   "execution_count": 5,
   "metadata": {},
   "outputs": [
    {
     "data": {
      "text/plain": [
       "765"
      ]
     },
     "execution_count": 5,
     "metadata": {},
     "output_type": "execute_result"
    }
   ],
   "source": [
    "model.get_tokens_count()"
   ]
  },
  {
   "cell_type": "code",
   "execution_count": null,
   "metadata": {},
   "outputs": [],
   "source": [
    "from langchain.output_parsers import ResponseSchema, StructuredOutputParser\n",
    "from langchain_core.prompts import PromptTemplate\n",
    "from langchain_openai import ChatOpenAI"
   ]
  },
  {
   "cell_type": "code",
   "execution_count": 40,
   "metadata": {},
   "outputs": [
    {
     "ename": "TypeError",
     "evalue": "'Encoding' object is not callable",
     "output_type": "error",
     "traceback": [
      "\u001b[0;31m---------------------------------------------------------------------------\u001b[0m",
      "\u001b[0;31mTypeError\u001b[0m                                 Traceback (most recent call last)",
      "Cell \u001b[0;32mIn[40], line 1\u001b[0m\n\u001b[0;32m----> 1\u001b[0m \u001b[43mmodel\u001b[49m\u001b[38;5;241;43m.\u001b[39;49m\u001b[43mencoding\u001b[49m\u001b[43m(\u001b[49m\u001b[38;5;124;43m\"\u001b[39;49m\u001b[38;5;124;43mhi sdfksfsl\u001b[39;49m\u001b[38;5;124;43m\"\u001b[39;49m\u001b[43m)\u001b[49m\n",
      "\u001b[0;31mTypeError\u001b[0m: 'Encoding' object is not callable"
     ]
    }
   ],
   "source": [
    "model.encoding(\"hi sdfksfsl\")"
   ]
  },
  {
   "cell_type": "code",
   "execution_count": null,
   "metadata": {},
   "outputs": [],
   "source": [
    "response_schemas = [\n",
    "    ResponseSchema(name=\"answer\", description=\"answer to the user's question\"),\n",
    "    ResponseSchema(\n",
    "        name=\"source\",\n",
    "        description=\"source used to answer the user's question, should be a website.\",\n",
    "    ),\n",
    "]\n",
    "output_parser = StructuredOutputParser.from_response_schemas(response_schemas)"
   ]
  },
  {
   "cell_type": "code",
   "execution_count": null,
   "metadata": {},
   "outputs": [],
   "source": [
    "a = model.invoke(\"tell me the hp of 911\") | output_parser"
   ]
  },
  {
   "cell_type": "code",
   "execution_count": null,
   "metadata": {},
   "outputs": [],
   "source": [
    "from langchain_openai import ChatOpenAI  # using OPENAI models\n",
    "\n",
    "\n",
    "Chatllm = ChatOpenAI(\n",
    "                temperature=0,\n",
    "                model=\"gpt-3.5-turbo\",\n",
    "            )"
   ]
  },
  {
   "cell_type": "code",
   "execution_count": 7,
   "metadata": {},
   "outputs": [],
   "source": [
    "\n",
    "from langchain_community.callbacks import get_openai_callback"
   ]
  },
  {
   "cell_type": "code",
   "execution_count": 8,
   "metadata": {},
   "outputs": [],
   "source": [
    "import asyncio\n",
    "\n",
    "from langchain_community.callbacks import get_openai_callback\n",
    "from langchain_openai import OpenAI\n",
    "\n",
    "llm = OpenAI(temperature=0)\n",
    "with get_openai_callback() as cb:\n",
    "    llm.invoke(\"What is the square root of 4?\")\n",
    "\n",
    "total_tokens = cb.total_tokens\n",
    "assert total_tokens > 0\n",
    "\n",
    "with get_openai_callback() as cb:\n",
    "    llm.invoke(\"What is the square root of 4?\")\n",
    "    llm.invoke(\"What is the square root of 4?\")\n",
    "\n",
    "assert cb.total_tokens == total_tokens * 2\n",
    "\n",
    "# You can kick off concurrent runs from within the context manager\n",
    "with get_openai_callback() as cb:\n",
    "    await asyncio.gather(\n",
    "        *[llm.agenerate([\"What is the square root of 4?\"]) for _ in range(3)]\n",
    "    )\n",
    "\n",
    "assert cb.total_tokens == total_tokens * 3\n",
    "\n",
    "# The context manager is concurrency safe\n",
    "task = asyncio.create_task(llm.agenerate([\"What is the square root of 4?\"]))\n",
    "with get_openai_callback() as cb:\n",
    "    await llm.agenerate([\"What is the square root of 4?\"])\n",
    "\n",
    "await task\n",
    "assert cb.total_tokens == total_tokens"
   ]
  },
  {
   "cell_type": "code",
   "execution_count": 13,
   "metadata": {},
   "outputs": [
    {
     "data": {
      "text/plain": [
       "['AI: Hello! I am a helpful chatbot that answer questions about cars!',\n",
       " 'Human: tell me the hp of 911 turbo s',\n",
       " 'AI: The Porsche 911 Turbo S has a horsepower of up to 640.']"
      ]
     },
     "execution_count": 13,
     "metadata": {},
     "output_type": "execute_result"
    }
   ],
   "source": [
    "model.get_memory()['history'].split('\\n')"
   ]
  },
  {
   "cell_type": "code",
   "execution_count": null,
   "metadata": {},
   "outputs": [],
   "source": []
  }
 ],
 "metadata": {
  "kernelspec": {
   "display_name": ".venv",
   "language": "python",
   "name": "python3"
  },
  "language_info": {
   "codemirror_mode": {
    "name": "ipython",
    "version": 3
   },
   "file_extension": ".py",
   "mimetype": "text/x-python",
   "name": "python",
   "nbconvert_exporter": "python",
   "pygments_lexer": "ipython3",
   "version": "3.9.6"
  }
 },
 "nbformat": 4,
 "nbformat_minor": 2
}
